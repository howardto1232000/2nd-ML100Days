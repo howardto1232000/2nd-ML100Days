{
 "cells": [
  {
   "cell_type": "markdown",
   "metadata": {},
   "source": [
    "## [作業重點]\n",
    "使用 Sklearn 中的 Lasso, Ridge 模型，來訓練各種資料集，務必了解送進去模型訓練的**資料型態**為何，也請了解模型中各項參數的意義。\n",
    "\n",
    "機器學習的模型非常多種，但要訓練的資料多半有固定的格式，確保你了解訓練資料的格式為何，這樣在應用新模型時，就能夠最快的上手開始訓練！"
   ]
  },
  {
   "cell_type": "markdown",
   "metadata": {},
   "source": [
    "## 練習時間\n",
    "試著使用 sklearn datasets 的其他資料集 (boston, ...)，來訓練自己的線性迴歸模型，並加上適當的正則話來觀察訓練情形。"
   ]
  },
  {
   "cell_type": "code",
   "execution_count": 24,
   "metadata": {},
   "outputs": [],
   "source": [
    "from sklearn import datasets, linear_model\n",
    "from sklearn.metrics import mean_squared_error\n",
    "from sklearn.model_selection import train_test_split"
   ]
  },
  {
   "cell_type": "code",
   "execution_count": 25,
   "metadata": {},
   "outputs": [
    {
     "name": "stdout",
     "output_type": "stream",
     "text": [
      "(404, 13)\n",
      "(102, 13)\n",
      "(404,)\n",
      "(102,)\n"
     ]
    }
   ],
   "source": [
    "boston = datasets.load_boston()\n",
    "train_X = boston.data\n",
    "train_y = boston.target\n",
    "train_X, test_X, train_y, test_y = train_test_split(train_X, train_y, test_size=0.2)\n",
    "print(train_X.shape, test_X.shape, train_y.shape, test_y.shape, sep='\\n')"
   ]
  },
  {
   "cell_type": "code",
   "execution_count": 26,
   "metadata": {},
   "outputs": [
    {
     "name": "stdout",
     "output_type": "stream",
     "text": [
      "linear regression:\t 21.282388116070177\n",
      "lasso:\t 22.78953658315812\n"
     ]
    }
   ],
   "source": [
    "reg = linear_model.LinearRegression()\n",
    "reg.fit(train_X, train_y)\n",
    "prediction = reg.predict(test_X)\n",
    "mse = mean_squared_error(test_y, prediction)\n",
    "print('linear regression:\\t', mse)\n",
    "\n",
    "reg = linear_model.Lasso(alpha=0.1)\n",
    "reg.fit(train_X, train_y)\n",
    "prediction = reg.predict(test_X)\n",
    "mse = mean_squared_error(test_y, prediction)\n",
    "print('lasso:\\t', mse)"
   ]
  },
  {
   "cell_type": "code",
   "execution_count": 27,
   "metadata": {},
   "outputs": [
    {
     "data": {
      "text/plain": [
       "array([-0.02524835,  0.06361187, -0.05030965,  1.48593296, -0.        ,\n",
       "        3.48155861, -0.00881344, -1.24280463,  0.28481561, -0.01454066,\n",
       "       -0.62765398,  0.01238876, -0.59955758])"
      ]
     },
     "execution_count": 27,
     "metadata": {},
     "output_type": "execute_result"
    }
   ],
   "source": [
    "reg.coef_"
   ]
  },
  {
   "cell_type": "code",
   "execution_count": 28,
   "metadata": {},
   "outputs": [
    {
     "name": "stdout",
     "output_type": "stream",
     "text": [
      "(142, 13)\n",
      "(36, 13)\n",
      "(142,)\n",
      "(36,)\n"
     ]
    }
   ],
   "source": [
    "wine = datasets.load_wine()\n",
    "train_X = wine.data\n",
    "train_y = wine.target\n",
    "train_X, test_X, train_y, test_y = train_test_split(train_X, train_y, test_size=0.2)\n",
    "print(train_X.shape, test_X.shape, train_y.shape, test_y.shape, sep='\\n')"
   ]
  },
  {
   "cell_type": "code",
   "execution_count": 29,
   "metadata": {},
   "outputs": [
    {
     "name": "stdout",
     "output_type": "stream",
     "text": [
      "linear regression:\t 0.060471872398158766\n",
      "ridge:\t 0.060438468121856305\n"
     ]
    }
   ],
   "source": [
    "reg = linear_model.LinearRegression()\n",
    "reg.fit(train_X, train_y)\n",
    "prediction = reg.predict(test_X)\n",
    "mse = mean_squared_error(test_y, prediction)\n",
    "print('linear regression:\\t', mse)\n",
    "\n",
    "reg = linear_model.Ridge(alpha=0.1)\n",
    "reg.fit(train_X, train_y)\n",
    "prediction = reg.predict(test_X)\n",
    "mse = mean_squared_error(test_y, prediction)\n",
    "print('ridge:\\t', mse)"
   ]
  },
  {
   "cell_type": "code",
   "execution_count": 30,
   "metadata": {},
   "outputs": [
    {
     "name": "stdout",
     "output_type": "stream",
     "text": [
      "[ 1.13669214  0.75204296  0.65919283  1.77218216  1.41896253  0.89298065\n",
      " -0.06499556  2.10953006 -0.45886127  0.00772966  2.00587016  0.08096961\n",
      "  1.2316556   1.82278164  1.94248882  0.2337511   0.67505842  1.82785803\n",
      " -0.00432057 -0.53319974  1.04195955  2.02912069  2.06290213 -0.34033351\n",
      "  0.94749544  1.19930519  0.91667149  1.3372233   1.125705   -0.23952273\n",
      "  2.05900312  1.05241046 -0.24251327  1.64392533 -0.0484721   2.27079112]\n"
     ]
    }
   ],
   "source": [
    "prediction = reg.predict(test_X)\n",
    "print(prediction)"
   ]
  },
  {
   "cell_type": "code",
   "execution_count": 31,
   "metadata": {},
   "outputs": [
    {
     "data": {
      "text/plain": [
       "array([-0.13430206,  0.0259775 , -0.18902802,  0.03666031,  0.00054601,\n",
       "        0.16227167, -0.36401331, -0.19277003,  0.00857269,  0.07415035,\n",
       "       -0.21189228, -0.26829114, -0.00077736])"
      ]
     },
     "execution_count": 31,
     "metadata": {},
     "output_type": "execute_result"
    }
   ],
   "source": [
    "reg.coef_"
   ]
  },
  {
   "cell_type": "code",
   "execution_count": null,
   "metadata": {},
   "outputs": [],
   "source": []
  }
 ],
 "metadata": {
  "kernelspec": {
   "display_name": "Python 3",
   "language": "python",
   "name": "python3"
  },
  "language_info": {
   "codemirror_mode": {
    "name": "ipython",
    "version": 3
   },
   "file_extension": ".py",
   "mimetype": "text/x-python",
   "name": "python",
   "nbconvert_exporter": "python",
   "pygments_lexer": "ipython3",
   "version": "3.6.5"
  }
 },
 "nbformat": 4,
 "nbformat_minor": 2
}
