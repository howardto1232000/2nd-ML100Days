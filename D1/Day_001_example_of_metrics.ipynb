{
 "cells": [
  {
   "cell_type": "code",
   "execution_count": 5,
   "metadata": {},
   "outputs": [
    {
     "data": {
      "text/plain": [
       "1.1058499999999998"
      ]
     },
     "execution_count": 5,
     "metadata": {},
     "output_type": "execute_result"
    }
   ],
   "source": [
    "import numpy as np\n",
    "\n",
    "def mse(predict, label):\n",
    "    if len(predict) != len(label):\n",
    "        print(\"predict and label with different length\")\n",
    "        return\n",
    "    pre = np.array(predict)\n",
    "    lab = np.array(label)\n",
    "    se = (pre - lab) ** 2\n",
    "    return sum(se) / len(se)\n",
    "\n",
    "a = [1.2, 2.8, 3.6, 0.25]\n",
    "b = [0.6, 0.8, 3.85, 0.22]\n",
    "mse(a, b)\n"
   ]
  },
  {
   "cell_type": "code",
   "execution_count": 6,
   "metadata": {},
   "outputs": [
    {
     "name": "stdout",
     "output_type": "stream",
     "text": [
      "predict and label with different length\n"
     ]
    }
   ],
   "source": [
    "c = [0.6, 0.8, 3.85, 0.22, 0.36]\n",
    "mse(a, c)"
   ]
  },
  {
   "cell_type": "code",
   "execution_count": null,
   "metadata": {},
   "outputs": [],
   "source": []
  }
 ],
 "metadata": {
  "kernelspec": {
   "display_name": "Python 3",
   "language": "python",
   "name": "python3"
  },
  "language_info": {
   "codemirror_mode": {
    "name": "ipython",
    "version": 3
   },
   "file_extension": ".py",
   "mimetype": "text/x-python",
   "name": "python",
   "nbconvert_exporter": "python",
   "pygments_lexer": "ipython3",
   "version": "3.6.5"
  }
 },
 "nbformat": 4,
 "nbformat_minor": 2
}
