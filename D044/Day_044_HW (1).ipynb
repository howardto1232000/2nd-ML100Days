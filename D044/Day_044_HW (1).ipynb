{
 "cells": [
  {
   "cell_type": "markdown",
   "metadata": {},
   "source": [
    "## [作業重點]\n",
    "確保你了解隨機森林模型中每個超參數的意義，並觀察調整超參數對結果的影響"
   ]
  },
  {
   "cell_type": "markdown",
   "metadata": {},
   "source": [
    "## 作業\n",
    "\n",
    "1. 試著調整 RandomForestClassifier(...) 中的參數，並觀察是否會改變結果？\n",
    "2. 改用其他資料集 (boston, wine)，並與回歸模型與決策樹的結果進行比較"
   ]
  },
  {
   "cell_type": "code",
   "execution_count": 1,
   "metadata": {},
   "outputs": [],
   "source": [
    "from sklearn import datasets, metrics\n",
    "from sklearn.ensemble import RandomForestClassifier, RandomForestRegressor\n",
    "from sklearn.tree import DecisionTreeClassifier, DecisionTreeRegressor\n",
    "from sklearn.model_selection import train_test_split"
   ]
  },
  {
   "cell_type": "code",
   "execution_count": 2,
   "metadata": {},
   "outputs": [],
   "source": [
    "boston = datasets.load_boston()\n",
    "wine = datasets.load_wine()"
   ]
  },
  {
   "cell_type": "code",
   "execution_count": 3,
   "metadata": {},
   "outputs": [
    {
     "name": "stdout",
     "output_type": "stream",
     "text": [
      "(404, 13) (102, 13) (404,) (102,)\n"
     ]
    }
   ],
   "source": [
    "# boston example\n",
    "train_X, test_X, train_y, test_y = train_test_split(boston.data, boston.target, test_size=0.2)\n",
    "print(train_X.shape, test_X.shape, train_y.shape, test_y.shape)"
   ]
  },
  {
   "cell_type": "code",
   "execution_count": 4,
   "metadata": {},
   "outputs": [
    {
     "name": "stdout",
     "output_type": "stream",
     "text": [
      "decision tree error: 31.250000\n",
      "random forest error: 13.147812\n"
     ]
    }
   ],
   "source": [
    "regFor = RandomForestRegressor(n_estimators=20)\n",
    "regFor.fit(train_X, train_y)\n",
    "predict = regFor.predict(test_X)\n",
    "errFor = metrics.mean_squared_error(test_y, predict)\n",
    "\n",
    "reg = DecisionTreeRegressor()\n",
    "reg.fit(train_X, train_y)\n",
    "predict = reg.predict(test_X)\n",
    "err = metrics.mean_squared_error(test_y, predict)\n",
    "\n",
    "print(\"decision tree error: %f\\nrandom forest error: %f\" % (err, errFor))"
   ]
  },
  {
   "cell_type": "code",
   "execution_count": 5,
   "metadata": {},
   "outputs": [
    {
     "name": "stdout",
     "output_type": "stream",
     "text": [
      "(142, 13) (36, 13) (142,) (36,)\n"
     ]
    }
   ],
   "source": [
    "# wine example\n",
    "train_X, test_X, train_y, test_y = train_test_split(wine.data, wine.target, test_size=0.2)\n",
    "print(train_X.shape, test_X.shape, train_y.shape, test_y.shape)"
   ]
  },
  {
   "cell_type": "code",
   "execution_count": 7,
   "metadata": {},
   "outputs": [
    {
     "name": "stdout",
     "output_type": "stream",
     "text": [
      "decision tree acc: 0.916667\n",
      "random forest acc: 0.972222\n"
     ]
    }
   ],
   "source": [
    "regFor = RandomForestClassifier(n_estimators=20)\n",
    "regFor.fit(train_X, train_y)\n",
    "predict = regFor.predict(test_X)\n",
    "errFor = metrics.accuracy_score(test_y, predict)\n",
    "\n",
    "reg = DecisionTreeClassifier()\n",
    "reg.fit(train_X, train_y)\n",
    "predict = reg.predict(test_X)\n",
    "err = metrics.accuracy_score(test_y, predict)\n",
    "\n",
    "print(\"decision tree acc: %f\\nrandom forest acc: %f\" % (err, errFor))"
   ]
  },
  {
   "cell_type": "code",
   "execution_count": null,
   "metadata": {},
   "outputs": [],
   "source": []
  }
 ],
 "metadata": {
  "kernelspec": {
   "display_name": "Python 3",
   "language": "python",
   "name": "python3"
  },
  "language_info": {
   "codemirror_mode": {
    "name": "ipython",
    "version": 3
   },
   "file_extension": ".py",
   "mimetype": "text/x-python",
   "name": "python",
   "nbconvert_exporter": "python",
   "pygments_lexer": "ipython3",
   "version": "3.6.5"
  }
 },
 "nbformat": 4,
 "nbformat_minor": 2
}
